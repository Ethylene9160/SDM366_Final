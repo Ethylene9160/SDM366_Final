{
 "cells": [
  {
   "cell_type": "code",
   "execution_count": 1,
   "id": "initial_id",
   "metadata": {
    "is_executing": true
   },
   "outputs": [
    {
     "ename": "ModuleNotFoundError",
     "evalue": "No module named 'torch'",
     "output_type": "error",
     "traceback": [
      "\u001b[1;31m---------------------------------------------------------------------------\u001b[0m",
      "\u001b[1;31mModuleNotFoundError\u001b[0m                       Traceback (most recent call last)",
      "Cell \u001b[1;32mIn[1], line 1\u001b[0m\n\u001b[1;32m----> 1\u001b[0m \u001b[38;5;28;01mimport\u001b[39;00m \u001b[38;5;21;01mtorch\u001b[39;00m\n\u001b[0;32m      2\u001b[0m \u001b[38;5;28;01mfrom\u001b[39;00m \u001b[38;5;21;01mtorch\u001b[39;00m \u001b[38;5;28;01mimport\u001b[39;00m nn\n\u001b[0;32m      3\u001b[0m \u001b[38;5;28;01mimport\u001b[39;00m \u001b[38;5;21;01mmatplotlib\u001b[39;00m\u001b[38;5;21;01m.\u001b[39;00m\u001b[38;5;21;01mpyplot\u001b[39;00m \u001b[38;5;28;01mas\u001b[39;00m \u001b[38;5;21;01mplt\u001b[39;00m\n",
      "\u001b[1;31mModuleNotFoundError\u001b[0m: No module named 'torch'"
     ]
    }
   ],
   "source": [
    "import torch\n",
    "from torch import nn\n",
    "import matplotlib.pyplot as plt\n",
    "\n",
    "class RNN(nn.Module):\n",
    "    def __init__(self, input_size, output_size, hidden_dim, n_layers):\n",
    "        super(RNN, self).__init__()\n",
    "        \n",
    "        self.hidden_dim=hidden_dim\n",
    "\n",
    "        # define an RNN with specified parameters\n",
    "        # batch_first means that the first dim of the input and output will be the batch_size\n",
    "        self.rnn = nn.RNN(input_size, hidden_dim, n_layers,bias=False,batch_first=True)\n",
    "        \n",
    "        # now we specify: NNxy\n",
    "        self.fc = nn.Linear(hidden_dim, output_size,bias=False)\n",
    "\n",
    "    def forward(self, u, hidden):\n",
    "        # u (batch_size, seq_length, input_size)\n",
    "        # hidden (n_layers, batch_size, hidden_dim)\n",
    "        # r_out (batch_size, time_step, hidden_size)\n",
    "        batch_size = u.size(0)\n",
    "        \n",
    "        # get RNN outputs\n",
    "        r_out, hidden = self.rnn(u, hidden)        \n",
    "        # shape output to be (batch_size*seq_length, hidden_dim)\n",
    "        r_out = r_out.view(-1, self.hidden_dim)  \n",
    "        # r_out: kth row is a hiden state vector at time k\n",
    "\n",
    "        # get final output \n",
    "        output = self.fc(r_out)        \n",
    "        return output, hidden"
   ]
  },
  {
   "cell_type": "code",
   "execution_count": null,
   "id": "fe7d83ef356783a0",
   "metadata": {
    "collapsed": false,
    "jupyter": {
     "outputs_hidden": false
    }
   },
   "outputs": [],
   "source": [
    "# let's simulate RNN with some input data\n",
    "\n",
    "input_size = 1\n",
    "output_size = 1\n",
    "hidden_dim = 3\n",
    "n_layers = 1\n",
    "\n",
    "myRNN = RNN(input_size,output_size,hidden_dim,n_layers)\n",
    "\n",
    "#generate input data for simulation\n",
    "seq_length = 20\n",
    "time_steps = np.linspace(0,np.pi,seq_length+1)\n",
    "data = np.cos(time_steps)\n",
    "data.resize((seq_length+1,1))\n",
    "u = data[:-1]   #all but the last piece of data\n",
    "u_tensor = torch.Tensor(u).unsqueeze(0)\n",
    "x0_tensor = torch.ones(1,1,3)\n",
    "\n",
    "y_rnn, xf = myRNN(u_tensor,x0_tensor)\n",
    "\n",
    "plt.plot(y_rnn.data.numpy())\n",
    "\n"
   ]
  },
  {
   "cell_type": "code",
   "execution_count": null,
   "id": "b77d4c9a816220e",
   "metadata": {
    "collapsed": false,
    "jupyter": {
     "outputs_hidden": false
    }
   },
   "outputs": [],
   "source": [
    "# develop our own RNN using state space model\n",
    "\n",
    "# obtain the weights\n",
    "\n",
    "w_xx = myRNN.rnn.weight_hh_l0.data.numpy()\n",
    "w_xy = myRNN.fc.weight.data.numpy()\n",
    "w_ux = myRNN.rnn.weight_ih_l0.data.numpy()\n",
    "\n",
    "#begin our simulation\n",
    "\n",
    "# initialization\n",
    "\n",
    "uhat = np.mat(u.reshape(-1,seq_length))\n",
    "x = np.mat(np.zeros((hidden_dim,seq_length)))\n",
    "y = np.mat(np.zeros((output_size,seq_length)))\n",
    "\n",
    "xhat = x0_tensor.numpy().reshape(3,1)\n",
    "\n",
    "for k in range(seq_length):\n",
    "    if k==0:\n",
    "        x[:,k]=np.tanh(w_xx@xhat + w_ux@uhat[:,k])\n",
    "        y[:,k]=w_xy@x[:,k]\n",
    "    else:\n",
    "        x[:,k]=np.tanh(w_xx@x[:,k-1] + w_ux@uhat[:,k])\n",
    "        y[:,k]=w_xy@x[:,k]      \n"
   ]
  },
  {
   "cell_type": "code",
   "execution_count": null,
   "id": "fea1fc9d0e852568",
   "metadata": {
    "collapsed": false,
    "jupyter": {
     "outputs_hidden": false
    }
   },
   "outputs": [],
   "source": [
    "plt.plot(y[0,:].T)"
   ]
  },
  {
   "cell_type": "code",
   "execution_count": null,
   "id": "c7c01c89038d8694",
   "metadata": {
    "collapsed": false,
    "jupyter": {
     "outputs_hidden": false
    }
   },
   "outputs": [],
   "source": [
    "print(w_xx@xhat)"
   ]
  }
 ],
 "metadata": {
  "kernelspec": {
   "display_name": "Python 3 (ipykernel)",
   "language": "python",
   "name": "python3"
  },
  "language_info": {
   "codemirror_mode": {
    "name": "ipython",
    "version": 3
   },
   "file_extension": ".py",
   "mimetype": "text/x-python",
   "name": "python",
   "nbconvert_exporter": "python",
   "pygments_lexer": "ipython3",
   "version": "3.11.7"
  }
 },
 "nbformat": 4,
 "nbformat_minor": 5
}
