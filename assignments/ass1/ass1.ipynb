{
 "cells": [
  {
   "cell_type": "code",
   "execution_count": 2,
   "id": "initial_id",
   "metadata": {
    "collapsed": true,
    "ExecuteTime": {
     "end_time": "2024-03-30T14:45:36.053233100Z",
     "start_time": "2024-03-30T14:45:36.018521600Z"
    }
   },
   "outputs": [],
   "source": [
    "from assignments.ass1.ass1 import CanShow, TimeShow, ListRemove, Student,  NumpyUse, MatrixCal, mMatlabShow"
   ]
  },
  {
   "cell_type": "code",
   "execution_count": 3,
   "outputs": [
    {
     "name": "stdout",
     "output_type": "stream",
     "text": [
      "===== Q1=====\n",
      "current time: 2024-03-30 22:45:36.039795\n",
      "['Green', 'White', 'Black']\n",
      "name:  Ganyu ,id:  233\n"
     ]
    }
   ],
   "source": [
    "\n",
    "print('===== Q1=====')\n",
    "timeshow = TimeShow()\n",
    "timeshow.show()\n",
    "\n",
    "listremove = ListRemove()\n",
    "listremove.show()\n",
    "\n",
    "stu = Student('Ganyu', '233')\n",
    "stu.show()"
   ],
   "metadata": {
    "collapsed": false,
    "ExecuteTime": {
     "end_time": "2024-03-30T14:45:36.060429700Z",
     "start_time": "2024-03-30T14:45:36.041878600Z"
    }
   },
   "id": "1c6536013eb0c922"
  },
  {
   "cell_type": "code",
   "execution_count": 4,
   "outputs": [
    {
     "name": "stdout",
     "output_type": "stream",
     "text": [
      "===== Q2=====\n",
      "original arr:\n",
      "[ 1  2  3  4  5  6  7  8  9 10]\n",
      "reshape:\n",
      "[[ 1  2  3  4  5]\n",
      " [ 6  7  8  9 10]]\n",
      "store the last 2 rows and cols:\n",
      "[[ 4  5]\n",
      " [ 9 10]]\n",
      "after sort:\n",
      "[8, 7, 6, 5, 4, 3, 2, 1]\n",
      "after inisertion:\n",
      "[1, 2, 3, 4, 5, 6]\n"
     ]
    }
   ],
   "source": [
    "\n",
    "print('===== Q2=====')\n",
    "mnp = NumpyUse()\n",
    "mnp.show()"
   ],
   "metadata": {
    "collapsed": false,
    "ExecuteTime": {
     "end_time": "2024-03-30T14:45:36.103302800Z",
     "start_time": "2024-03-30T14:45:36.055249700Z"
    }
   },
   "id": "d238ee87ddfcfc87"
  },
  {
   "cell_type": "code",
   "execution_count": 5,
   "outputs": [
    {
     "name": "stdout",
     "output_type": "stream",
     "text": [
      "===== Q3=====\n",
      "A: [[ 1 -1  0]\n",
      " [ 1  2  2]\n",
      " [-1  0 -1]\n",
      " [ 0  1  0]]\n",
      "B: [[-2 -1  1]\n",
      " [ 1  5  4]\n",
      " [ 1 -1  2]\n",
      " [ 1  2  1]]\n",
      "2nd row of A:\n",
      "[1 2 2]\n",
      "3rd col of B:\n",
      "[1 4 2 1] ^T\n",
      "add: \n",
      " [[-1 -2  1]\n",
      " [ 2  7  6]\n",
      " [ 0 -1  1]\n",
      " [ 1  3  1]] \n",
      "minus: \n",
      " [[ 3  0 -1]\n",
      " [ 0 -3 -2]\n",
      " [-2  1 -3]\n",
      " [-1 -1 -1]]\n",
      "[A,B]: \n",
      " [[ 1 -1  0 -2 -1  1]\n",
      " [ 1  2  2  1  5  4]\n",
      " [-1  0 -1  1 -1  2]\n",
      " [ 0  1  0  1  2  1]]\n",
      "A^TB: \n",
      " [[-2  5  3]\n",
      " [ 5 13  8]\n",
      " [ 1 11  6]]\n"
     ]
    }
   ],
   "source": [
    "\n",
    "print('===== Q3=====')\n",
    "mc = MatrixCal()\n",
    "mc.show()"
   ],
   "metadata": {
    "collapsed": false,
    "ExecuteTime": {
     "end_time": "2024-03-30T14:45:36.105345Z",
     "start_time": "2024-03-30T14:45:36.072373600Z"
    }
   },
   "id": "fedd7ca41dbb3ed8"
  },
  {
   "cell_type": "code",
   "execution_count": 6,
   "outputs": [
    {
     "name": "stdout",
     "output_type": "stream",
     "text": [
      "===== Q4=====\n"
     ]
    },
    {
     "data": {
      "text/plain": "<Figure size 640x480 with 1 Axes>",
      "image/png": "[encoded data removed]"
     },
     "metadata": {},
     "output_type": "display_data"
    }
   ],
   "source": [
    "\n",
    "print('===== Q4=====')\n",
    "mt = mMatlabShow()\n",
    "mt.show()\t"
   ],
   "metadata": {
    "collapsed": false,
    "ExecuteTime": {
     "end_time": "2024-03-30T14:45:36.204474400Z",
     "start_time": "2024-03-30T14:45:36.086862700Z"
    }
   },
   "id": "321e3b7cdcbc5ca"
  },
  {
   "cell_type": "code",
   "execution_count": 6,
   "outputs": [],
   "source": [],
   "metadata": {
    "collapsed": false,
    "ExecuteTime": {
     "end_time": "2024-03-30T14:45:36.217010Z",
     "start_time": "2024-03-30T14:45:36.201407Z"
    }
   },
   "id": "61ef63ff45ba6a00"
  }
 ],
 "metadata": {
  "kernelspec": {
   "display_name": "Python 3",
   "language": "python",
   "name": "python3"
  },
  "language_info": {
   "codemirror_mode": {
    "name": "ipython",
    "version": 2
   },
   "file_extension": ".py",
   "mimetype": "text/x-python",
   "name": "python",
   "nbconvert_exporter": "python",
   "pygments_lexer": "ipython2",
   "version": "2.7.6"
  }
 },
 "nbformat": 4,
 "nbformat_minor": 5
}
