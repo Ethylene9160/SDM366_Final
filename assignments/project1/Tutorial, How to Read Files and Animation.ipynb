{
 "cells": [
  {
   "cell_type": "markdown",
   "metadata": {},
   "source": [
    "# ME424 Modern Control and Estimation\r\n",
    "## Tutorial #2 Read Files and Animation"
   ]
  },
  {
   "cell_type": "markdown",
   "metadata": {},
   "source": [
    "### 1. How to read a \".csv\" file?"
   ]
  },
  {
   "cell_type": "markdown",
   "metadata": {},
   "source": [
    "You can use np.loadtxt() to read a \".csv\" file. Documentation about the function is given by https://numpy.org/doc/stable/reference/generated/numpy.loadtxt.html."
   ]
  },
  {
   "cell_type": "code",
   "execution_count": null,
   "metadata": {},
   "outputs": [],
   "source": [
    "import numpy as np\r\n",
    "winddata = np.loadtxt(\"winddata.csv\", delimiter=\",\", skiprows=1, usecols=1)\r\n",
    "print(np.dot(winddata, winddata.T)) # test"
   ]
  },
  {
   "cell_type": "markdown",
   "metadata": {},
   "source": [
    "### 2. Animation using Matplotlib."
   ]
  },
  {
   "cell_type": "markdown",
   "metadata": {},
   "source": [
    "If you use a \".py\" file or a \".ipynb\" file in Windows or Ubuntu, you can use the method below to make an animation:"
   ]
  },
  {
   "cell_type": "code",
   "execution_count": null,
   "metadata": {},
   "outputs": [],
   "source": [
    "import matplotlib.pyplot as plt\r\n",
    "\r\n",
    "for i in range(100):\r\n",
    "    plt.plot([3, 5], [1, 6-0.1*i],color=\"green\")\r\n",
    "    plt.xlim((2, 6))\r\n",
    "    plt.ylim((-10, 10))\r\n",
    "    plt.xlabel(\"x\")\r\n",
    "    plt.ylabel(\"y\")\r\n",
    "    plt.title(\"Example Animation\")\r\n",
    "    plt.pause(0.01)\r\n",
    "    plt.cla() # clear your plot"
   ]
  },
  {
   "cell_type": "markdown",
   "metadata": {},
   "source": [
    "If you use a \".ipynb\" file in WSL, there are several methods to visualize your animation. A simple way is to use the \"Ipython.display\"."
   ]
  },
  {
   "cell_type": "code",
   "execution_count": null,
   "metadata": {},
   "outputs": [],
   "source": [
    "# used for WSL\r\n",
    "import matplotlib.pyplot as plt\r\n",
    "from IPython import display\r\n",
    "\r\n",
    "for i in range(100):\r\n",
    "    plt.plot([3, 5], [1, 6-0.1*i],color=\"green\")\r\n",
    "    plt.xlim((2, 6))\r\n",
    "    plt.ylim((-10, 10))\r\n",
    "    plt.xlabel(\"x\")\r\n",
    "    plt.ylabel(\"y\")\r\n",
    "    plt.title(\"Example Animation\")\r\n",
    "    plt.pause(0.01)\r\n",
    "    plt.cla() # clear your plot\r\n",
    "    display.clear_output(wait=True)"
   ]
  }
 ],
 "metadata": {
  "interpreter": {
   "hash": "73e03da126b73bfff3642ec5261d56fa25c444ea595de51041687efaa60dda41"
  },
  "kernelspec": {
   "display_name": "Python 3 (ipykernel)",
   "language": "python",
   "name": "python3"
  },
  "language_info": {
   "codemirror_mode": {
    "name": "ipython",
    "version": 3
   },
   "file_extension": ".py",
   "mimetype": "text/x-python",
   "name": "python",
   "nbconvert_exporter": "python",
   "pygments_lexer": "ipython3",
   "version": "3.11.7"
  }
 },
 "nbformat": 4,
 "nbformat_minor": 4
}
